{
 "cells": [
  {
   "cell_type": "code",
   "execution_count": 1,
   "id": "e05ab474-27c6-434d-ad68-cc8fda094085",
   "metadata": {},
   "outputs": [],
   "source": [
    "from ipyleaflet import Map, projections, LayersControl, LayerGroup\n",
    "from ipyleaflet import ScaleControl, FullScreenControl, SplitMapControl\n",
    "\n",
    "from localtileserver import examples\n",
    "from localtileserver import TileClient, get_leaflet_tile_layer\n",
    "\n",
    "import pystac"
   ]
  },
  {
   "cell_type": "code",
   "execution_count": 2,
   "id": "8bbf8c4e-c931-461d-8618-2e9ce733adb7",
   "metadata": {},
   "outputs": [
    {
     "name": "stdout",
     "output_type": "stream",
     "text": [
      "* <Catalog id=catalog>\n",
      "  * <Item id=S2B_10TFK_20210713_0_L2A>\n",
      "  * <Item id=S2A_10TFK_20210718_0_L2A>\n"
     ]
    }
   ],
   "source": [
    "catalog = pystac.read_file(\"/home/jovyan/water-bodies/dp8i2kiv/catalog.json\")\n",
    "\n",
    "catalog.describe()"
   ]
  },
  {
   "cell_type": "code",
   "execution_count": 3,
   "id": "51b77a44-3377-408a-b2e1-4dcf4f7957cb",
   "metadata": {},
   "outputs": [
    {
     "data": {
      "application/vnd.jupyter.widget-view+json": {
       "model_id": "cca788de28c34fc38c9586faa5edf6cf",
       "version_major": 2,
       "version_minor": 0
      },
      "text/plain": [
       "Map(center=[40.15302581081341, -121.06648900517655], controls=(ZoomControl(options=['position', 'zoom_in_text'…"
      ]
     },
     "metadata": {},
     "output_type": "display_data"
    }
   ],
   "source": [
    "m = None\n",
    "\n",
    "index = 0\n",
    "groups = []\n",
    "for item in catalog.get_all_items():\n",
    "\n",
    "    client = TileClient(item.get_assets()[\"data\"].get_absolute_href())\n",
    "    t = get_leaflet_tile_layer(client)\n",
    "\n",
    "    if not m:\n",
    "        m = Map(center=client.center(), zoom=client.default_zoom)\n",
    "\n",
    "        control = LayersControl(position='topright')\n",
    "        m.add_control(control)\n",
    "    \n",
    "    groups.append(LayerGroup(name=item.id, layers=()))\n",
    "    \n",
    "    m.add_layer(groups[index])\n",
    "    groups[index].add_layer(t)\n",
    "     \n",
    "    index = index + 1 \n",
    "    \n",
    "m"
   ]
  },
  {
   "cell_type": "code",
   "execution_count": null,
   "id": "ed5937df-cdf4-49bd-86a6-d85f2ea0ab9e",
   "metadata": {},
   "outputs": [],
   "source": []
  }
 ],
 "metadata": {
  "kernelspec": {
   "display_name": "Python 3 (ipykernel)",
   "language": "python",
   "name": "python3"
  },
  "language_info": {
   "codemirror_mode": {
    "name": "ipython",
    "version": 3
   },
   "file_extension": ".py",
   "mimetype": "text/x-python",
   "name": "python",
   "nbconvert_exporter": "python",
   "pygments_lexer": "ipython3",
   "version": "3.7.12"
  }
 },
 "nbformat": 4,
 "nbformat_minor": 5
}
